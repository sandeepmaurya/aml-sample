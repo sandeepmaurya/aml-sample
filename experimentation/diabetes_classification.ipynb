{
 "cells": [
  {
   "cell_type": "markdown",
   "source": [
    "# Get Data"
   ],
   "metadata": {
    "collapsed": false
   }
  },
  {
   "cell_type": "code",
   "execution_count": 2,
   "outputs": [
    {
     "data": {
      "text/plain": "   PatientID  Pregnancies  PlasmaGlucose  DiastolicBloodPressure  \\\n0    1142956            1             78                      41   \n1    1823377            0            116                      92   \n2    1916381            8            171                      42   \n3    1247480            3            108                      63   \n4    1516947            8            153                      99   \n\n   TricepsThickness  SerumInsulin        BMI  DiabetesPedigree  Age  Diabetic  \n0                33           311  50.796392          0.420804   24         0  \n1                16           184  18.603630          0.131156   22         0  \n2                29           160  35.482247          0.082671   22         1  \n3                45           297  49.375169          0.100979   46         1  \n4                15            41  35.062139          0.116191   22         1  ",
      "text/html": "<div>\n<style scoped>\n    .dataframe tbody tr th:only-of-type {\n        vertical-align: middle;\n    }\n\n    .dataframe tbody tr th {\n        vertical-align: top;\n    }\n\n    .dataframe thead th {\n        text-align: right;\n    }\n</style>\n<table border=\"1\" class=\"dataframe\">\n  <thead>\n    <tr style=\"text-align: right;\">\n      <th></th>\n      <th>PatientID</th>\n      <th>Pregnancies</th>\n      <th>PlasmaGlucose</th>\n      <th>DiastolicBloodPressure</th>\n      <th>TricepsThickness</th>\n      <th>SerumInsulin</th>\n      <th>BMI</th>\n      <th>DiabetesPedigree</th>\n      <th>Age</th>\n      <th>Diabetic</th>\n    </tr>\n  </thead>\n  <tbody>\n    <tr>\n      <th>0</th>\n      <td>1142956</td>\n      <td>1</td>\n      <td>78</td>\n      <td>41</td>\n      <td>33</td>\n      <td>311</td>\n      <td>50.796392</td>\n      <td>0.420804</td>\n      <td>24</td>\n      <td>0</td>\n    </tr>\n    <tr>\n      <th>1</th>\n      <td>1823377</td>\n      <td>0</td>\n      <td>116</td>\n      <td>92</td>\n      <td>16</td>\n      <td>184</td>\n      <td>18.603630</td>\n      <td>0.131156</td>\n      <td>22</td>\n      <td>0</td>\n    </tr>\n    <tr>\n      <th>2</th>\n      <td>1916381</td>\n      <td>8</td>\n      <td>171</td>\n      <td>42</td>\n      <td>29</td>\n      <td>160</td>\n      <td>35.482247</td>\n      <td>0.082671</td>\n      <td>22</td>\n      <td>1</td>\n    </tr>\n    <tr>\n      <th>3</th>\n      <td>1247480</td>\n      <td>3</td>\n      <td>108</td>\n      <td>63</td>\n      <td>45</td>\n      <td>297</td>\n      <td>49.375169</td>\n      <td>0.100979</td>\n      <td>46</td>\n      <td>1</td>\n    </tr>\n    <tr>\n      <th>4</th>\n      <td>1516947</td>\n      <td>8</td>\n      <td>153</td>\n      <td>99</td>\n      <td>15</td>\n      <td>41</td>\n      <td>35.062139</td>\n      <td>0.116191</td>\n      <td>22</td>\n      <td>1</td>\n    </tr>\n  </tbody>\n</table>\n</div>"
     },
     "execution_count": 2,
     "metadata": {},
     "output_type": "execute_result"
    }
   ],
   "source": [
    "from azureml.core import Workspace, Dataset, Datastore\n",
    "from azureml.core.authentication import ServicePrincipalAuthentication\n",
    "\n",
    "# Service principal to authenticate with Azureml datastore\n",
    "tenant_id = '305f1b09-dfce-4875-8ae1-287c94373798'\n",
    "client_id = '7e35756d-5c6b-479e-8d7c-97b15c751b8c'\n",
    "client_secret = ''\n",
    "auth = ServicePrincipalAuthentication(tenant_id, client_id, client_secret)\n",
    "\n",
    "# Workspace\n",
    "subscription_id = '3ccb9182-11da-487f-9b4f-be7e2fcfd5d3'\n",
    "resource_group = 'aml'\n",
    "workspace_name = 'smws001'\n",
    "workspace = Workspace(subscription_id, resource_group, workspace_name, auth)\n",
    "\n",
    "# Load data into a pandas dataframe\n",
    "datastore = Datastore.get(workspace, 'diabetes')\n",
    "dataset = Dataset.Tabular.from_delimited_files(path=(datastore, 'dev_1_0_0'))\n",
    "df = dataset.to_pandas_dataframe()\n",
    "\n",
    "df.head()"
   ],
   "metadata": {
    "collapsed": false
   }
  },
  {
   "cell_type": "markdown",
   "source": [
    "# Split data"
   ],
   "metadata": {
    "collapsed": false
   }
  },
  {
   "cell_type": "code",
   "execution_count": 3,
   "outputs": [],
   "source": [
    "from sklearn.model_selection import train_test_split\n",
    "\n",
    "X, y = df[['Pregnancies', 'PlasmaGlucose', 'DiastolicBloodPressure', 'TricepsThickness', 'SerumInsulin', 'BMI',\n",
    "           'DiabetesPedigree', 'Age']].values, df['Diabetic'].values\n",
    "X_train, X_test, y_train, y_test = train_test_split(X, y, test_size=0.30, random_state=42)"
   ],
   "metadata": {
    "collapsed": false
   }
  },
  {
   "cell_type": "markdown",
   "source": [
    "# Train model"
   ],
   "metadata": {
    "collapsed": false
   }
  },
  {
   "cell_type": "code",
   "execution_count": 4,
   "outputs": [],
   "source": [
    "from sklearn.linear_model import LogisticRegression\n",
    "\n",
    "model = LogisticRegression(C=1 / 0.1, solver=\"liblinear\").fit(X_train, y_train)"
   ],
   "metadata": {
    "collapsed": false
   }
  },
  {
   "cell_type": "markdown",
   "source": [
    "# Evaluate model"
   ],
   "metadata": {
    "collapsed": false
   }
  },
  {
   "cell_type": "code",
   "execution_count": 5,
   "outputs": [
    {
     "name": "stdout",
     "output_type": "stream",
     "text": [
      "              precision    recall  f1-score   support\n",
      "\n",
      "           0       0.81      0.88      0.84       988\n",
      "           1       0.73      0.60      0.66       512\n",
      "\n",
      "    accuracy                           0.79      1500\n",
      "   macro avg       0.77      0.74      0.75      1500\n",
      "weighted avg       0.78      0.79      0.78      1500\n",
      "\n"
     ]
    }
   ],
   "source": [
    "from sklearn.metrics import classification_report\n",
    "\n",
    "y_pred = model.predict(X_test)\n",
    "\n",
    "print(classification_report(y_test, y_pred))"
   ],
   "metadata": {
    "collapsed": false
   }
  },
  {
   "cell_type": "code",
   "execution_count": 6,
   "outputs": [
    {
     "data": {
      "text/plain": "0.8611680003795545"
     },
     "execution_count": 6,
     "metadata": {},
     "output_type": "execute_result"
    }
   ],
   "source": [
    "from sklearn.metrics import roc_auc_score\n",
    "\n",
    "y_scores = model.predict_proba(X_test)\n",
    "auc = roc_auc_score(y_test, y_scores[:, 1])\n",
    "auc"
   ],
   "metadata": {
    "collapsed": false
   }
  },
  {
   "cell_type": "code",
   "execution_count": 7,
   "outputs": [
    {
     "data": {
      "text/plain": "Text(0.5, 1.0, 'ROC Curve')"
     },
     "execution_count": 7,
     "metadata": {},
     "output_type": "execute_result"
    },
    {
     "data": {
      "text/plain": "<Figure size 600x400 with 1 Axes>",
      "image/png": "[encoded data removed]"
     },
     "metadata": {},
     "output_type": "display_data"
    }
   ],
   "source": [
    "from sklearn.metrics import roc_curve\n",
    "import matplotlib.pyplot as plt\n",
    "\n",
    "# plot ROC curve\n",
    "fpr, tpr, thresholds = roc_curve(y_test, y_scores[:, 1])\n",
    "fig = plt.figure(figsize=(6, 4))\n",
    "# Plot the diagonal 50% line\n",
    "plt.plot([0, 1], [0, 1], 'k--')\n",
    "# Plot the FPR and TPR achieved by our model\n",
    "plt.plot(fpr, tpr)\n",
    "plt.xlabel('False Positive Rate')\n",
    "plt.ylabel('True Positive Rate')\n",
    "plt.title('ROC Curve')"
   ],
   "metadata": {
    "collapsed": false
   }
  },
  {
   "cell_type": "code",
   "execution_count": 16,
   "outputs": [],
   "source": [],
   "metadata": {
    "collapsed": false
   }
  }
 ],
 "metadata": {
  "kernelspec": {
   "display_name": "Python 3",
   "language": "python",
   "name": "python3"
  },
  "language_info": {
   "codemirror_mode": {
    "name": "ipython",
    "version": 2
   },
   "file_extension": ".py",
   "mimetype": "text/x-python",
   "name": "python",
   "nbconvert_exporter": "python",
   "pygments_lexer": "ipython2",
   "version": "2.7.6"
  }
 },
 "nbformat": 4,
 "nbformat_minor": 0
}
